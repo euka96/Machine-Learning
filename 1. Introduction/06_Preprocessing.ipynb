{
 "metadata": {
  "language_info": {
   "codemirror_mode": {
    "name": "ipython",
    "version": 3
   },
   "file_extension": ".py",
   "mimetype": "text/x-python",
   "name": "python",
   "nbconvert_exporter": "python",
   "pygments_lexer": "ipython3",
   "version": "3.8.8"
  },
  "orig_nbformat": 4,
  "kernelspec": {
   "name": "python3",
   "display_name": "Python 3.8.8 64-bit ('base': conda)"
  },
  "interpreter": {
   "hash": "94be3c0045a496f1db0f6c0933821dfb1f75d678fefa7c30ef8ba447fd697bda"
  }
 },
 "nbformat": 4,
 "nbformat_minor": 2,
 "cells": [
  {
   "cell_type": "code",
   "execution_count": 63,
   "metadata": {},
   "outputs": [],
   "source": [
    "import numpy as np\n",
    "import pandas as pd"
   ]
  },
  {
   "source": [
    "## 1. Label encoding"
   ],
   "cell_type": "markdown",
   "metadata": {}
  },
  {
   "cell_type": "code",
   "execution_count": 1,
   "metadata": {},
   "outputs": [],
   "source": [
    "from sklearn.preprocessing import LabelEncoder"
   ]
  },
  {
   "cell_type": "code",
   "execution_count": 12,
   "metadata": {},
   "outputs": [],
   "source": [
    "items = ['TV', 'fridge', 'microwave', 'computer', 'fan', 'fan', 'mixer', 'mixer']"
   ]
  },
  {
   "cell_type": "code",
   "execution_count": 31,
   "metadata": {},
   "outputs": [],
   "source": [
    "# 레이블 인코더 객체 생성\n",
    "encoder = LabelEncoder()"
   ]
  },
  {
   "cell_type": "code",
   "execution_count": 32,
   "metadata": {},
   "outputs": [
    {
     "output_type": "execute_result",
     "data": {
      "text/plain": [
       "LabelEncoder()"
      ]
     },
     "metadata": {},
     "execution_count": 32
    }
   ],
   "source": [
    "# 인코딩 학습\n",
    "encoder.fit(items)"
   ]
  },
  {
   "cell_type": "code",
   "execution_count": 33,
   "metadata": {},
   "outputs": [
    {
     "output_type": "execute_result",
     "data": {
      "text/plain": [
       "array([0, 3, 4, 1, 2, 2, 5, 5])"
      ]
     },
     "metadata": {},
     "execution_count": 33
    }
   ],
   "source": [
    "labels = encoder.transform(items)\n",
    "labels"
   ]
  },
  {
   "cell_type": "code",
   "execution_count": 18,
   "metadata": {},
   "outputs": [
    {
     "output_type": "execute_result",
     "data": {
      "text/plain": [
       "array([0, 3, 4, 1, 2, 2, 5, 5])"
      ]
     },
     "metadata": {},
     "execution_count": 18
    }
   ],
   "source": [
    "# Welcome to the battle\n",
    "labels = encoder.fit_transform(items)\n",
    "labels"
   ]
  },
  {
   "cell_type": "code",
   "execution_count": 52,
   "metadata": {},
   "outputs": [
    {
     "output_type": "execute_result",
     "data": {
      "text/plain": [
       "array([0, 3, 4, 1, 2, 2, 5, 5])"
      ]
     },
     "metadata": {},
     "execution_count": 52
    }
   ],
   "source": [
    "# Fastest way\n",
    "labels = LabelEncoder().fit_transform(items)\n",
    "labels"
   ]
  },
  {
   "source": [
    "## 2. One-Hot encoding"
   ],
   "cell_type": "markdown",
   "metadata": {}
  },
  {
   "cell_type": "code",
   "execution_count": 21,
   "metadata": {},
   "outputs": [],
   "source": [
    "from sklearn.preprocessing import OneHotEncoder"
   ]
  },
  {
   "cell_type": "code",
   "execution_count": 53,
   "metadata": {},
   "outputs": [],
   "source": [
    "labels = LabelEncoder().fit_transform(items)\n",
    "labels = labels.reshape(-1, 1)"
   ]
  },
  {
   "cell_type": "code",
   "execution_count": 56,
   "metadata": {},
   "outputs": [
    {
     "output_type": "execute_result",
     "data": {
      "text/plain": [
       "array([[1., 0., 0., 0., 0., 0.],\n",
       "       [0., 0., 0., 1., 0., 0.],\n",
       "       [0., 0., 0., 0., 1., 0.],\n",
       "       [0., 1., 0., 0., 0., 0.],\n",
       "       [0., 0., 1., 0., 0., 0.],\n",
       "       [0., 0., 1., 0., 0., 0.],\n",
       "       [0., 0., 0., 0., 0., 1.],\n",
       "       [0., 0., 0., 0., 0., 1.]])"
      ]
     },
     "metadata": {},
     "execution_count": 56
    }
   ],
   "source": [
    "oh_encoder = OneHotEncoder()\n",
    "oh_encoder.fit(labels)\n",
    "one_hot = oh_encoder.transform(labels)\n",
    "one_hot.toarray()"
   ]
  },
  {
   "cell_type": "code",
   "execution_count": 51,
   "metadata": {},
   "outputs": [
    {
     "output_type": "execute_result",
     "data": {
      "text/plain": [
       "array([[1., 0., 0., 0., 0., 0.],\n",
       "       [0., 0., 0., 1., 0., 0.],\n",
       "       [0., 0., 0., 0., 1., 0.],\n",
       "       [0., 1., 0., 0., 0., 0.],\n",
       "       [0., 0., 1., 0., 0., 0.],\n",
       "       [0., 0., 1., 0., 0., 0.],\n",
       "       [0., 0., 0., 0., 0., 1.],\n",
       "       [0., 0., 0., 0., 0., 1.]])"
      ]
     },
     "metadata": {},
     "execution_count": 51
    }
   ],
   "source": [
    "# Welcome to the battle\n",
    "labels = LabelEncoder().fit_transform(items)\n",
    "oh_encoder = OneHotEncoder()\n",
    "one_hot = oh_encoder.fit_transform(labels.reshape(-1, 1))\n",
    "one_hot.toarray()"
   ]
  },
  {
   "cell_type": "code",
   "execution_count": 57,
   "metadata": {},
   "outputs": [
    {
     "output_type": "execute_result",
     "data": {
      "text/plain": [
       "array([[1., 0., 0., 0., 0., 0.],\n",
       "       [0., 0., 0., 1., 0., 0.],\n",
       "       [0., 0., 0., 0., 1., 0.],\n",
       "       [0., 1., 0., 0., 0., 0.],\n",
       "       [0., 0., 1., 0., 0., 0.],\n",
       "       [0., 0., 1., 0., 0., 0.],\n",
       "       [0., 0., 0., 0., 0., 1.],\n",
       "       [0., 0., 0., 0., 0., 1.]])"
      ]
     },
     "metadata": {},
     "execution_count": 57
    }
   ],
   "source": [
    "labels = LabelEncoder().fit_transform(items)\n",
    "OneHotEncoder().fit_transform(labels.reshape(-1, 1)).toarray()"
   ]
  },
  {
   "source": [
    "## 3. Standard Scaler"
   ],
   "cell_type": "markdown",
   "metadata": {}
  },
  {
   "cell_type": "code",
   "execution_count": 59,
   "metadata": {},
   "outputs": [],
   "source": [
    "from sklearn.preprocessing import StandardScaler"
   ]
  },
  {
   "cell_type": "code",
   "execution_count": 58,
   "metadata": {},
   "outputs": [],
   "source": [
    "from sklearn.datasets import load_iris\n",
    "iris = load_iris()"
   ]
  },
  {
   "cell_type": "code",
   "execution_count": 69,
   "metadata": {},
   "outputs": [],
   "source": [
    "scaler = StandardScaler()\n",
    "iris_stsc = scaler.fit_transform(iris.data)"
   ]
  },
  {
   "cell_type": "code",
   "execution_count": 66,
   "metadata": {},
   "outputs": [
    {
     "output_type": "execute_result",
     "data": {
      "text/plain": [
       "     sepal length (cm)  sepal width (cm)  petal length (cm)  petal width (cm)  \\\n",
       "0            -0.900681          1.019004          -1.340227         -1.315444   \n",
       "1            -1.143017         -0.131979          -1.340227         -1.315444   \n",
       "2            -1.385353          0.328414          -1.397064         -1.315444   \n",
       "3            -1.506521          0.098217          -1.283389         -1.315444   \n",
       "4            -1.021849          1.249201          -1.340227         -1.315444   \n",
       "..                 ...               ...                ...               ...   \n",
       "145           1.038005         -0.131979           0.819596          1.448832   \n",
       "146           0.553333         -1.282963           0.705921          0.922303   \n",
       "147           0.795669         -0.131979           0.819596          1.053935   \n",
       "148           0.432165          0.788808           0.933271          1.448832   \n",
       "149           0.068662         -0.131979           0.762758          0.790671   \n",
       "\n",
       "     species  \n",
       "0          0  \n",
       "1          0  \n",
       "2          0  \n",
       "3          0  \n",
       "4          0  \n",
       "..       ...  \n",
       "145        2  \n",
       "146        2  \n",
       "147        2  \n",
       "148        2  \n",
       "149        2  \n",
       "\n",
       "[150 rows x 5 columns]"
      ],
      "text/html": "<div>\n<style scoped>\n    .dataframe tbody tr th:only-of-type {\n        vertical-align: middle;\n    }\n\n    .dataframe tbody tr th {\n        vertical-align: top;\n    }\n\n    .dataframe thead th {\n        text-align: right;\n    }\n</style>\n<table border=\"1\" class=\"dataframe\">\n  <thead>\n    <tr style=\"text-align: right;\">\n      <th></th>\n      <th>sepal length (cm)</th>\n      <th>sepal width (cm)</th>\n      <th>petal length (cm)</th>\n      <th>petal width (cm)</th>\n      <th>species</th>\n    </tr>\n  </thead>\n  <tbody>\n    <tr>\n      <th>0</th>\n      <td>-0.900681</td>\n      <td>1.019004</td>\n      <td>-1.340227</td>\n      <td>-1.315444</td>\n      <td>0</td>\n    </tr>\n    <tr>\n      <th>1</th>\n      <td>-1.143017</td>\n      <td>-0.131979</td>\n      <td>-1.340227</td>\n      <td>-1.315444</td>\n      <td>0</td>\n    </tr>\n    <tr>\n      <th>2</th>\n      <td>-1.385353</td>\n      <td>0.328414</td>\n      <td>-1.397064</td>\n      <td>-1.315444</td>\n      <td>0</td>\n    </tr>\n    <tr>\n      <th>3</th>\n      <td>-1.506521</td>\n      <td>0.098217</td>\n      <td>-1.283389</td>\n      <td>-1.315444</td>\n      <td>0</td>\n    </tr>\n    <tr>\n      <th>4</th>\n      <td>-1.021849</td>\n      <td>1.249201</td>\n      <td>-1.340227</td>\n      <td>-1.315444</td>\n      <td>0</td>\n    </tr>\n    <tr>\n      <th>...</th>\n      <td>...</td>\n      <td>...</td>\n      <td>...</td>\n      <td>...</td>\n      <td>...</td>\n    </tr>\n    <tr>\n      <th>145</th>\n      <td>1.038005</td>\n      <td>-0.131979</td>\n      <td>0.819596</td>\n      <td>1.448832</td>\n      <td>2</td>\n    </tr>\n    <tr>\n      <th>146</th>\n      <td>0.553333</td>\n      <td>-1.282963</td>\n      <td>0.705921</td>\n      <td>0.922303</td>\n      <td>2</td>\n    </tr>\n    <tr>\n      <th>147</th>\n      <td>0.795669</td>\n      <td>-0.131979</td>\n      <td>0.819596</td>\n      <td>1.053935</td>\n      <td>2</td>\n    </tr>\n    <tr>\n      <th>148</th>\n      <td>0.432165</td>\n      <td>0.788808</td>\n      <td>0.933271</td>\n      <td>1.448832</td>\n      <td>2</td>\n    </tr>\n    <tr>\n      <th>149</th>\n      <td>0.068662</td>\n      <td>-0.131979</td>\n      <td>0.762758</td>\n      <td>0.790671</td>\n      <td>2</td>\n    </tr>\n  </tbody>\n</table>\n<p>150 rows × 5 columns</p>\n</div>"
     },
     "metadata": {},
     "execution_count": 66
    }
   ],
   "source": [
    "df = pd.DataFrame(iris_stsc, columns = iris.feature_names)\n",
    "df['species'] = iris.target\n",
    "df"
   ]
  },
  {
   "cell_type": "code",
   "execution_count": 70,
   "metadata": {},
   "outputs": [
    {
     "output_type": "execute_result",
     "data": {
      "text/plain": [
       "       sepal length (cm)  sepal width (cm)  petal length (cm)  \\\n",
       "count       1.500000e+02      1.500000e+02       1.500000e+02   \n",
       "mean       -1.690315e-15     -1.842970e-15      -1.698641e-15   \n",
       "std         1.003350e+00      1.003350e+00       1.003350e+00   \n",
       "min        -1.870024e+00     -2.433947e+00      -1.567576e+00   \n",
       "25%        -9.006812e-01     -5.923730e-01      -1.226552e+00   \n",
       "50%        -5.250608e-02     -1.319795e-01       3.364776e-01   \n",
       "75%         6.745011e-01      5.586108e-01       7.627583e-01   \n",
       "max         2.492019e+00      3.090775e+00       1.785832e+00   \n",
       "\n",
       "       petal width (cm)     species  \n",
       "count      1.500000e+02  150.000000  \n",
       "mean      -1.409243e-15    1.000000  \n",
       "std        1.003350e+00    0.819232  \n",
       "min       -1.447076e+00    0.000000  \n",
       "25%       -1.183812e+00    0.000000  \n",
       "50%        1.325097e-01    1.000000  \n",
       "75%        7.906707e-01    2.000000  \n",
       "max        1.712096e+00    2.000000  "
      ],
      "text/html": "<div>\n<style scoped>\n    .dataframe tbody tr th:only-of-type {\n        vertical-align: middle;\n    }\n\n    .dataframe tbody tr th {\n        vertical-align: top;\n    }\n\n    .dataframe thead th {\n        text-align: right;\n    }\n</style>\n<table border=\"1\" class=\"dataframe\">\n  <thead>\n    <tr style=\"text-align: right;\">\n      <th></th>\n      <th>sepal length (cm)</th>\n      <th>sepal width (cm)</th>\n      <th>petal length (cm)</th>\n      <th>petal width (cm)</th>\n      <th>species</th>\n    </tr>\n  </thead>\n  <tbody>\n    <tr>\n      <th>count</th>\n      <td>1.500000e+02</td>\n      <td>1.500000e+02</td>\n      <td>1.500000e+02</td>\n      <td>1.500000e+02</td>\n      <td>150.000000</td>\n    </tr>\n    <tr>\n      <th>mean</th>\n      <td>-1.690315e-15</td>\n      <td>-1.842970e-15</td>\n      <td>-1.698641e-15</td>\n      <td>-1.409243e-15</td>\n      <td>1.000000</td>\n    </tr>\n    <tr>\n      <th>std</th>\n      <td>1.003350e+00</td>\n      <td>1.003350e+00</td>\n      <td>1.003350e+00</td>\n      <td>1.003350e+00</td>\n      <td>0.819232</td>\n    </tr>\n    <tr>\n      <th>min</th>\n      <td>-1.870024e+00</td>\n      <td>-2.433947e+00</td>\n      <td>-1.567576e+00</td>\n      <td>-1.447076e+00</td>\n      <td>0.000000</td>\n    </tr>\n    <tr>\n      <th>25%</th>\n      <td>-9.006812e-01</td>\n      <td>-5.923730e-01</td>\n      <td>-1.226552e+00</td>\n      <td>-1.183812e+00</td>\n      <td>0.000000</td>\n    </tr>\n    <tr>\n      <th>50%</th>\n      <td>-5.250608e-02</td>\n      <td>-1.319795e-01</td>\n      <td>3.364776e-01</td>\n      <td>1.325097e-01</td>\n      <td>1.000000</td>\n    </tr>\n    <tr>\n      <th>75%</th>\n      <td>6.745011e-01</td>\n      <td>5.586108e-01</td>\n      <td>7.627583e-01</td>\n      <td>7.906707e-01</td>\n      <td>2.000000</td>\n    </tr>\n    <tr>\n      <th>max</th>\n      <td>2.492019e+00</td>\n      <td>3.090775e+00</td>\n      <td>1.785832e+00</td>\n      <td>1.712096e+00</td>\n      <td>2.000000</td>\n    </tr>\n  </tbody>\n</table>\n</div>"
     },
     "metadata": {},
     "execution_count": 70
    }
   ],
   "source": [
    "df.describe()"
   ]
  },
  {
   "source": [
    "## 4. Min-Max scaler"
   ],
   "cell_type": "markdown",
   "metadata": {}
  },
  {
   "cell_type": "code",
   "execution_count": 72,
   "metadata": {},
   "outputs": [],
   "source": [
    "from sklearn.preprocessing import MinMaxScaler\n",
    "mm_scaler = MinMaxScaler()\n",
    "iris_mms = mm_scaler.fit_transform(iris.data)"
   ]
  },
  {
   "cell_type": "code",
   "execution_count": 73,
   "metadata": {},
   "outputs": [
    {
     "output_type": "execute_result",
     "data": {
      "text/plain": [
       "     sepal length (cm)  sepal width (cm)  petal length (cm)  petal width (cm)\n",
       "0             0.222222          0.625000           0.067797          0.041667\n",
       "1             0.166667          0.416667           0.067797          0.041667\n",
       "2             0.111111          0.500000           0.050847          0.041667\n",
       "3             0.083333          0.458333           0.084746          0.041667\n",
       "4             0.194444          0.666667           0.067797          0.041667\n",
       "..                 ...               ...                ...               ...\n",
       "145           0.666667          0.416667           0.711864          0.916667\n",
       "146           0.555556          0.208333           0.677966          0.750000\n",
       "147           0.611111          0.416667           0.711864          0.791667\n",
       "148           0.527778          0.583333           0.745763          0.916667\n",
       "149           0.444444          0.416667           0.694915          0.708333\n",
       "\n",
       "[150 rows x 4 columns]"
      ],
      "text/html": "<div>\n<style scoped>\n    .dataframe tbody tr th:only-of-type {\n        vertical-align: middle;\n    }\n\n    .dataframe tbody tr th {\n        vertical-align: top;\n    }\n\n    .dataframe thead th {\n        text-align: right;\n    }\n</style>\n<table border=\"1\" class=\"dataframe\">\n  <thead>\n    <tr style=\"text-align: right;\">\n      <th></th>\n      <th>sepal length (cm)</th>\n      <th>sepal width (cm)</th>\n      <th>petal length (cm)</th>\n      <th>petal width (cm)</th>\n    </tr>\n  </thead>\n  <tbody>\n    <tr>\n      <th>0</th>\n      <td>0.222222</td>\n      <td>0.625000</td>\n      <td>0.067797</td>\n      <td>0.041667</td>\n    </tr>\n    <tr>\n      <th>1</th>\n      <td>0.166667</td>\n      <td>0.416667</td>\n      <td>0.067797</td>\n      <td>0.041667</td>\n    </tr>\n    <tr>\n      <th>2</th>\n      <td>0.111111</td>\n      <td>0.500000</td>\n      <td>0.050847</td>\n      <td>0.041667</td>\n    </tr>\n    <tr>\n      <th>3</th>\n      <td>0.083333</td>\n      <td>0.458333</td>\n      <td>0.084746</td>\n      <td>0.041667</td>\n    </tr>\n    <tr>\n      <th>4</th>\n      <td>0.194444</td>\n      <td>0.666667</td>\n      <td>0.067797</td>\n      <td>0.041667</td>\n    </tr>\n    <tr>\n      <th>...</th>\n      <td>...</td>\n      <td>...</td>\n      <td>...</td>\n      <td>...</td>\n    </tr>\n    <tr>\n      <th>145</th>\n      <td>0.666667</td>\n      <td>0.416667</td>\n      <td>0.711864</td>\n      <td>0.916667</td>\n    </tr>\n    <tr>\n      <th>146</th>\n      <td>0.555556</td>\n      <td>0.208333</td>\n      <td>0.677966</td>\n      <td>0.750000</td>\n    </tr>\n    <tr>\n      <th>147</th>\n      <td>0.611111</td>\n      <td>0.416667</td>\n      <td>0.711864</td>\n      <td>0.791667</td>\n    </tr>\n    <tr>\n      <th>148</th>\n      <td>0.527778</td>\n      <td>0.583333</td>\n      <td>0.745763</td>\n      <td>0.916667</td>\n    </tr>\n    <tr>\n      <th>149</th>\n      <td>0.444444</td>\n      <td>0.416667</td>\n      <td>0.694915</td>\n      <td>0.708333</td>\n    </tr>\n  </tbody>\n</table>\n<p>150 rows × 4 columns</p>\n</div>"
     },
     "metadata": {},
     "execution_count": 73
    }
   ],
   "source": [
    "df2 = pd.DataFrame(iris_mms, columns = iris.feature_names)\n",
    "df2"
   ]
  },
  {
   "cell_type": "code",
   "execution_count": 74,
   "metadata": {},
   "outputs": [
    {
     "output_type": "execute_result",
     "data": {
      "text/plain": [
       "       sepal length (cm)  sepal width (cm)  petal length (cm)  \\\n",
       "count         150.000000        150.000000         150.000000   \n",
       "mean            0.428704          0.440556           0.467458   \n",
       "std             0.230018          0.181611           0.299203   \n",
       "min             0.000000          0.000000           0.000000   \n",
       "25%             0.222222          0.333333           0.101695   \n",
       "50%             0.416667          0.416667           0.567797   \n",
       "75%             0.583333          0.541667           0.694915   \n",
       "max             1.000000          1.000000           1.000000   \n",
       "\n",
       "       petal width (cm)  \n",
       "count        150.000000  \n",
       "mean           0.458056  \n",
       "std            0.317599  \n",
       "min            0.000000  \n",
       "25%            0.083333  \n",
       "50%            0.500000  \n",
       "75%            0.708333  \n",
       "max            1.000000  "
      ],
      "text/html": "<div>\n<style scoped>\n    .dataframe tbody tr th:only-of-type {\n        vertical-align: middle;\n    }\n\n    .dataframe tbody tr th {\n        vertical-align: top;\n    }\n\n    .dataframe thead th {\n        text-align: right;\n    }\n</style>\n<table border=\"1\" class=\"dataframe\">\n  <thead>\n    <tr style=\"text-align: right;\">\n      <th></th>\n      <th>sepal length (cm)</th>\n      <th>sepal width (cm)</th>\n      <th>petal length (cm)</th>\n      <th>petal width (cm)</th>\n    </tr>\n  </thead>\n  <tbody>\n    <tr>\n      <th>count</th>\n      <td>150.000000</td>\n      <td>150.000000</td>\n      <td>150.000000</td>\n      <td>150.000000</td>\n    </tr>\n    <tr>\n      <th>mean</th>\n      <td>0.428704</td>\n      <td>0.440556</td>\n      <td>0.467458</td>\n      <td>0.458056</td>\n    </tr>\n    <tr>\n      <th>std</th>\n      <td>0.230018</td>\n      <td>0.181611</td>\n      <td>0.299203</td>\n      <td>0.317599</td>\n    </tr>\n    <tr>\n      <th>min</th>\n      <td>0.000000</td>\n      <td>0.000000</td>\n      <td>0.000000</td>\n      <td>0.000000</td>\n    </tr>\n    <tr>\n      <th>25%</th>\n      <td>0.222222</td>\n      <td>0.333333</td>\n      <td>0.101695</td>\n      <td>0.083333</td>\n    </tr>\n    <tr>\n      <th>50%</th>\n      <td>0.416667</td>\n      <td>0.416667</td>\n      <td>0.567797</td>\n      <td>0.500000</td>\n    </tr>\n    <tr>\n      <th>75%</th>\n      <td>0.583333</td>\n      <td>0.541667</td>\n      <td>0.694915</td>\n      <td>0.708333</td>\n    </tr>\n    <tr>\n      <th>max</th>\n      <td>1.000000</td>\n      <td>1.000000</td>\n      <td>1.000000</td>\n      <td>1.000000</td>\n    </tr>\n  </tbody>\n</table>\n</div>"
     },
     "metadata": {},
     "execution_count": 74
    }
   ],
   "source": [
    "df2.describe()"
   ]
  }
 ]
}