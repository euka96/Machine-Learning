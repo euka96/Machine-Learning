{
 "metadata": {
  "language_info": {
   "codemirror_mode": {
    "name": "ipython",
    "version": 3
   },
   "file_extension": ".py",
   "mimetype": "text/x-python",
   "name": "python",
   "nbconvert_exporter": "python",
   "pygments_lexer": "ipython3",
   "version": "3.8.8"
  },
  "orig_nbformat": 4,
  "kernelspec": {
   "name": "python3",
   "display_name": "Python 3.8.8 64-bit ('base': conda)"
  },
  "interpreter": {
   "hash": "94be3c0045a496f1db0f6c0933821dfb1f75d678fefa7c30ef8ba447fd697bda"
  }
 },
 "nbformat": 4,
 "nbformat_minor": 2,
 "cells": [
  {
   "source": [
    "## Model Selection module"
   ],
   "cell_type": "markdown",
   "metadata": {}
  },
  {
   "cell_type": "code",
   "execution_count": 18,
   "metadata": {},
   "outputs": [],
   "source": [
    "import numpy as np\n",
    "import pandas as pd\n",
    "from sklearn.tree import DecisionTreeClassifier\n",
    "from sklearn.svm import SVC\n",
    "from sklearn.linear_model import LogisticRegression"
   ]
  },
  {
   "source": [
    "- Machine learning proceeding without dividing as Train and Test"
   ],
   "cell_type": "markdown",
   "metadata": {}
  },
  {
   "cell_type": "code",
   "execution_count": 19,
   "metadata": {},
   "outputs": [],
   "source": [
    "from sklearn.datasets import load_iris\n",
    "from sklearn.metrics import accuracy_score"
   ]
  },
  {
   "cell_type": "code",
   "execution_count": 20,
   "metadata": {},
   "outputs": [
    {
     "output_type": "execute_result",
     "data": {
      "text/plain": [
       "DecisionTreeClassifier()"
      ]
     },
     "metadata": {},
     "execution_count": 20
    }
   ],
   "source": [
    "iris = load_iris()\n",
    "dt_clf = DecisionTreeClassifier()\n",
    "dt_clf.fit(iris.data, iris.target)"
   ]
  },
  {
   "cell_type": "code",
   "execution_count": 21,
   "metadata": {},
   "outputs": [
    {
     "output_type": "execute_result",
     "data": {
      "text/plain": [
       "1.0"
      ]
     },
     "metadata": {},
     "execution_count": 21
    }
   ],
   "source": [
    "pred = dt_clf.predict(iris.data)\n",
    "accuracy_score(iris.target, pred)"
   ]
  },
  {
   "source": [
    "- cross_validate method"
   ],
   "cell_type": "markdown",
   "metadata": {}
  },
  {
   "cell_type": "code",
   "execution_count": 22,
   "metadata": {},
   "outputs": [],
   "source": [
    "from sklearn.model_selection import cross_validate"
   ]
  },
  {
   "cell_type": "code",
   "execution_count": 23,
   "metadata": {},
   "outputs": [
    {
     "output_type": "execute_result",
     "data": {
      "text/plain": [
       "{'fit_time': array([0.00067592, 0.00034285, 0.00028491, 0.0002768 , 0.00027514]),\n",
       " 'score_time': array([0.00023007, 0.00015306, 0.00014019, 0.00013399, 0.00012803]),\n",
       " 'test_score': array([0.96666667, 0.96666667, 0.9       , 1.        , 1.        ])}"
      ]
     },
     "metadata": {},
     "execution_count": 23
    }
   ],
   "source": [
    "dtc = DecisionTreeClassifier()\n",
    "cross_validate(dtc, iris.data, iris.target)"
   ]
  },
  {
   "cell_type": "code",
   "execution_count": 24,
   "metadata": {},
   "outputs": [
    {
     "output_type": "execute_result",
     "data": {
      "text/plain": [
       "{'fit_time': array([0.000705  , 0.00036287, 0.00033712, 0.00032878, 0.00030184]),\n",
       " 'score_time': array([0.00024509, 0.00015116, 0.00014377, 0.00016308, 0.00017595]),\n",
       " 'test_score': array([0.96666667, 0.96666667, 0.9       , 0.93333333, 1.        ]),\n",
       " 'train_score': array([1., 1., 1., 1., 1.])}"
      ]
     },
     "metadata": {},
     "execution_count": 24
    }
   ],
   "source": [
    "dtc = DecisionTreeClassifier()\n",
    "cross_validate(dtc, iris.data, iris.target, return_train_score = True)"
   ]
  },
  {
   "source": [
    "- Dividing Train and Test data set"
   ],
   "cell_type": "markdown",
   "metadata": {}
  },
  {
   "cell_type": "code",
   "execution_count": 27,
   "metadata": {},
   "outputs": [],
   "source": [
    "from sklearn.model_selection import train_test_split"
   ]
  },
  {
   "cell_type": "code",
   "execution_count": 28,
   "metadata": {},
   "outputs": [
    {
     "output_type": "execute_result",
     "data": {
      "text/plain": [
       "0    41\n",
       "1    41\n",
       "2    38\n",
       "dtype: int64"
      ]
     },
     "metadata": {},
     "execution_count": 28
    }
   ],
   "source": [
    "X_train, X_test, y_train, y_test = train_test_split(\n",
    "    iris.data, iris.target, train_size = 0.2, random_state = 2021\n",
    ")\n",
    "\n",
    "pd.Series(y_test).value_counts()"
   ]
  },
  {
   "cell_type": "code",
   "execution_count": 29,
   "metadata": {},
   "outputs": [
    {
     "output_type": "execute_result",
     "data": {
      "text/plain": [
       "0    40\n",
       "1    40\n",
       "2    40\n",
       "dtype: int64"
      ]
     },
     "metadata": {},
     "execution_count": 29
    }
   ],
   "source": [
    "# Stratified dividing | 비율을 맞춰서 분리\n",
    "X_train, X_test, y_train, y_test = train_test_split(\n",
    "    iris.data, iris.target, train_size = 0.2, random_state = 2021,\n",
    "    stratify = iris.target\n",
    ")\n",
    "\n",
    "pd.Series(y_test).value_counts()"
   ]
  },
  {
   "source": [
    "- cross_val_score() method"
   ],
   "cell_type": "markdown",
   "metadata": {}
  },
  {
   "cell_type": "code",
   "execution_count": 30,
   "metadata": {},
   "outputs": [],
   "source": [
    "# 성능 지표는 정확도, 교차검증 세트 5개\n",
    "from sklearn.model_selection import cross_val_score"
   ]
  },
  {
   "cell_type": "code",
   "execution_count": 31,
   "metadata": {},
   "outputs": [
    {
     "output_type": "execute_result",
     "data": {
      "text/plain": [
       "array([0.96666667, 0.96666667, 0.9       , 1.        , 1.        ])"
      ]
     },
     "metadata": {},
     "execution_count": 31
    }
   ],
   "source": [
    "cross_val_score(dtc, iris.data, iris.target, cv = 5)"
   ]
  },
  {
   "cell_type": "code",
   "execution_count": 32,
   "metadata": {},
   "outputs": [
    {
     "output_type": "execute_result",
     "data": {
      "text/plain": [
       "0.9666666666666668"
      ]
     },
     "metadata": {},
     "execution_count": 32
    }
   ],
   "source": [
    "scores = cross_val_score(dtc, iris.data, iris.target, cv = 5)\n",
    "np.mean(scores)"
   ]
  },
  {
   "source": [
    "### GridSearchCV\n",
    "- Proceeding cross checking and hyper parameter tuning"
   ],
   "cell_type": "markdown",
   "metadata": {}
  },
  {
   "cell_type": "code",
   "execution_count": 33,
   "metadata": {},
   "outputs": [],
   "source": [
    "dtc = DecisionTreeClassifier(random_state = 2021)"
   ]
  },
  {
   "cell_type": "code",
   "execution_count": 34,
   "metadata": {},
   "outputs": [],
   "source": [
    "from sklearn.model_selection import GridSearchCV"
   ]
  },
  {
   "cell_type": "code",
   "execution_count": 35,
   "metadata": {},
   "outputs": [],
   "source": [
    "# parameter to dictiaonary\n",
    "params = {\n",
    "    'max_depth' : [2, 3, 4, 5],\n",
    "    'min_samples_split' : [2, 3]\n",
    "}"
   ]
  },
  {
   "cell_type": "code",
   "execution_count": 36,
   "metadata": {},
   "outputs": [],
   "source": [
    "grid_dtc = GridSearchCV(dtc, param_grid = params, cv = 3)"
   ]
  },
  {
   "cell_type": "code",
   "execution_count": 37,
   "metadata": {},
   "outputs": [
    {
     "output_type": "execute_result",
     "data": {
      "text/plain": [
       "GridSearchCV(cv=3, estimator=DecisionTreeClassifier(random_state=2021),\n",
       "             param_grid={'max_depth': [2, 3, 4, 5],\n",
       "                         'min_samples_split': [2, 3]})"
      ]
     },
     "metadata": {},
     "execution_count": 37
    }
   ],
   "source": [
    "grid_dtc.fit(X_train, y_train)"
   ]
  },
  {
   "cell_type": "code",
   "execution_count": 42,
   "metadata": {},
   "outputs": [
    {
     "output_type": "execute_result",
     "data": {
      "text/plain": [
       "{'mean_fit_time': array([0.00113583, 0.00076373, 0.00072026, 0.00061202, 0.00052468,\n",
       "        0.00051936, 0.00051936, 0.00049305]),\n",
       " 'std_fit_time': array([4.12547419e-04, 8.68603818e-05, 5.92938905e-05, 6.41814076e-06,\n",
       "        1.95961444e-06, 6.37469439e-06, 3.33975178e-06, 2.31752997e-05]),\n",
       " 'mean_score_time': array([0.00037829, 0.00025924, 0.00024605, 0.00021251, 0.00018922,\n",
       "        0.00018867, 0.00018795, 0.00016753]),\n",
       " 'std_score_time': array([2.51787278e-05, 2.14888499e-05, 2.18418833e-05, 1.11867754e-05,\n",
       "        1.91065713e-06, 1.12391596e-06, 2.43399824e-06, 2.40265790e-06]),\n",
       " 'param_max_depth': masked_array(data=[2, 2, 3, 3, 4, 4, 5, 5],\n",
       "              mask=[False, False, False, False, False, False, False, False],\n",
       "        fill_value='?',\n",
       "             dtype=object),\n",
       " 'param_min_samples_split': masked_array(data=[2, 3, 2, 3, 2, 3, 2, 3],\n",
       "              mask=[False, False, False, False, False, False, False, False],\n",
       "        fill_value='?',\n",
       "             dtype=object),\n",
       " 'params': [{'max_depth': 2, 'min_samples_split': 2},\n",
       "  {'max_depth': 2, 'min_samples_split': 3},\n",
       "  {'max_depth': 3, 'min_samples_split': 2},\n",
       "  {'max_depth': 3, 'min_samples_split': 3},\n",
       "  {'max_depth': 4, 'min_samples_split': 2},\n",
       "  {'max_depth': 4, 'min_samples_split': 3},\n",
       "  {'max_depth': 5, 'min_samples_split': 2},\n",
       "  {'max_depth': 5, 'min_samples_split': 3}],\n",
       " 'split0_test_score': array([1., 1., 1., 1., 1., 1., 1., 1.]),\n",
       " 'split1_test_score': array([0.9, 0.9, 0.9, 0.9, 0.9, 0.9, 0.9, 0.9]),\n",
       " 'split2_test_score': array([1., 1., 1., 1., 1., 1., 1., 1.]),\n",
       " 'mean_test_score': array([0.96666667, 0.96666667, 0.96666667, 0.96666667, 0.96666667,\n",
       "        0.96666667, 0.96666667, 0.96666667]),\n",
       " 'std_test_score': array([0.04714045, 0.04714045, 0.04714045, 0.04714045, 0.04714045,\n",
       "        0.04714045, 0.04714045, 0.04714045]),\n",
       " 'rank_test_score': array([1, 1, 1, 1, 1, 1, 1, 1], dtype=int32)}"
      ]
     },
     "metadata": {},
     "execution_count": 42
    }
   ],
   "source": [
    "grid_dtc.cv_results_"
   ]
  },
  {
   "cell_type": "code",
   "execution_count": 39,
   "metadata": {},
   "outputs": [
    {
     "output_type": "execute_result",
     "data": {
      "text/plain": [
       "{'max_depth': 2, 'min_samples_split': 2}"
      ]
     },
     "metadata": {},
     "execution_count": 39
    }
   ],
   "source": [
    "# 최적 파라미터\n",
    "grid_dtc.best_params_"
   ]
  },
  {
   "cell_type": "code",
   "execution_count": 40,
   "metadata": {},
   "outputs": [
    {
     "output_type": "execute_result",
     "data": {
      "text/plain": [
       "0.9666666666666667"
      ]
     },
     "metadata": {},
     "execution_count": 40
    }
   ],
   "source": [
    "# 최고 정확도\n",
    "grid_dtc.best_score_"
   ]
  },
  {
   "cell_type": "code",
   "execution_count": 41,
   "metadata": {},
   "outputs": [
    {
     "output_type": "execute_result",
     "data": {
      "text/plain": [
       "0.9583333333333334"
      ]
     },
     "metadata": {},
     "execution_count": 41
    }
   ],
   "source": [
    "# 최고 정확도를 가지는 최적 파라미터로 학습한 estimator\n",
    "best_estimator = grid_dtc.best_estimator_\n",
    "best_estimator.score(X_test, y_test)"
   ]
  }
 ]
}