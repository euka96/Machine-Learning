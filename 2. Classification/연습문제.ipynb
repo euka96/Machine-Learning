{
 "metadata": {
  "language_info": {
   "codemirror_mode": {
    "name": "ipython",
    "version": 3
   },
   "file_extension": ".py",
   "mimetype": "text/x-python",
   "name": "python",
   "nbconvert_exporter": "python",
   "pygments_lexer": "ipython3",
   "version": "3.8.8"
  },
  "orig_nbformat": 4,
  "kernelspec": {
   "name": "python3",
   "display_name": "Python 3.8.8 64-bit ('base': conda)"
  },
  "interpreter": {
   "hash": "94be3c0045a496f1db0f6c0933821dfb1f75d678fefa7c30ef8ba447fd697bda"
  }
 },
 "nbformat": 4,
 "nbformat_minor": 2,
 "cells": [
  {
   "source": [
    "### Digits"
   ],
   "cell_type": "markdown",
   "metadata": {}
  },
  {
   "cell_type": "code",
   "execution_count": 11,
   "metadata": {},
   "outputs": [],
   "source": [
    "import numpy as np\n",
    "import pandas as pd\n",
    "import warnings\n",
    "warnings.filterwarnings('ignore')"
   ]
  },
  {
   "source": [
    "- Original"
   ],
   "cell_type": "markdown",
   "metadata": {}
  },
  {
   "cell_type": "code",
   "execution_count": 12,
   "metadata": {},
   "outputs": [
    {
     "output_type": "execute_result",
     "data": {
      "text/plain": [
       "array([[ 0.,  0.,  5., ...,  0.,  0.,  0.],\n",
       "       [ 0.,  0.,  0., ..., 10.,  0.,  0.],\n",
       "       [ 0.,  0.,  0., ..., 16.,  9.,  0.],\n",
       "       ...,\n",
       "       [ 0.,  0.,  1., ...,  6.,  0.,  0.],\n",
       "       [ 0.,  0.,  2., ..., 12.,  0.,  0.],\n",
       "       [ 0.,  0., 10., ..., 12.,  1.,  0.]])"
      ]
     },
     "metadata": {},
     "execution_count": 12
    }
   ],
   "source": [
    "from sklearn.datasets import load_digits\n",
    "\n",
    "digits = load_digits()\n",
    "digits.data"
   ]
  },
  {
   "cell_type": "code",
   "execution_count": 13,
   "metadata": {},
   "outputs": [
    {
     "output_type": "execute_result",
     "data": {
      "text/plain": [
       "array([0, 1, 2, ..., 8, 9, 8])"
      ]
     },
     "metadata": {},
     "execution_count": 13
    }
   ],
   "source": [
    "digits.target"
   ]
  },
  {
   "cell_type": "code",
   "execution_count": 14,
   "metadata": {},
   "outputs": [
    {
     "output_type": "execute_result",
     "data": {
      "text/plain": [
       "((1437, 64), (360, 64), (1437,), (360,))"
      ]
     },
     "metadata": {},
     "execution_count": 14
    }
   ],
   "source": [
    "from sklearn.model_selection import train_test_split\n",
    "\n",
    "X_train, X_test, y_train, y_test = train_test_split(\n",
    "    digits.data, digits.target, stratify = digits.target, test_size = 0.2, random_state = 2021\n",
    ")\n",
    "X_train.shape, X_test.shape, y_train.shape, y_test.shape"
   ]
  },
  {
   "cell_type": "code",
   "execution_count": 15,
   "metadata": {},
   "outputs": [],
   "source": [
    "from sklearn.tree import DecisionTreeClassifier\n",
    "dtc = DecisionTreeClassifier(random_state=2021)\n",
    "dtc.fit(X_train, y_train)\n",
    "pred = dtc.predict(X_test)"
   ]
  },
  {
   "cell_type": "code",
   "execution_count": 16,
   "metadata": {},
   "outputs": [
    {
     "output_type": "execute_result",
     "data": {
      "text/plain": [
       "0.8777777777777778"
      ]
     },
     "metadata": {},
     "execution_count": 16
    }
   ],
   "source": [
    "from sklearn.metrics import accuracy_score\n",
    "accuracy_score(y_test, pred)"
   ]
  },
  {
   "source": [
    "- MinMaxScaler"
   ],
   "cell_type": "markdown",
   "metadata": {}
  },
  {
   "cell_type": "code",
   "execution_count": 17,
   "metadata": {},
   "outputs": [
    {
     "output_type": "execute_result",
     "data": {
      "text/plain": [
       "      pixel_0_0  pixel_0_1  pixel_0_2  pixel_0_3  pixel_0_4  pixel_0_5  \\\n",
       "0           0.0        0.0     0.3125     0.8125     0.5625     0.0625   \n",
       "1           0.0        0.0     0.0000     0.7500     0.8125     0.3125   \n",
       "2           0.0        0.0     0.0000     0.2500     0.9375     0.7500   \n",
       "3           0.0        0.0     0.4375     0.9375     0.8125     0.0625   \n",
       "4           0.0        0.0     0.0000     0.0625     0.6875     0.0000   \n",
       "...         ...        ...        ...        ...        ...        ...   \n",
       "1792        0.0        0.0     0.2500     0.6250     0.8125     0.3750   \n",
       "1793        0.0        0.0     0.3750     1.0000     0.8125     0.6875   \n",
       "1794        0.0        0.0     0.0625     0.6875     0.9375     0.0625   \n",
       "1795        0.0        0.0     0.1250     0.6250     0.4375     0.0000   \n",
       "1796        0.0        0.0     0.6250     0.8750     0.5000     0.0625   \n",
       "\n",
       "      pixel_0_6  pixel_0_7  pixel_1_0  pixel_1_1  ...  pixel_6_6  pixel_6_7  \\\n",
       "0        0.0000        0.0        0.0     0.0000  ...     0.0000        0.0   \n",
       "1        0.0000        0.0        0.0     0.0000  ...     0.0000        0.0   \n",
       "2        0.0000        0.0        0.0     0.0000  ...     0.3125        0.0   \n",
       "3        0.0000        0.0        0.0     0.5000  ...     0.5625        0.0   \n",
       "4        0.0000        0.0        0.0     0.0000  ...     0.0000        0.0   \n",
       "...         ...        ...        ...        ...  ...        ...        ...   \n",
       "1792     0.0000        0.0        0.0     0.0625  ...     0.2500        0.0   \n",
       "1793     0.0625        0.0        0.0     0.0000  ...     0.0625        0.0   \n",
       "1794     0.0000        0.0        0.0     0.0000  ...     0.0000        0.0   \n",
       "1795     0.0000        0.0        0.0     0.0000  ...     0.1250        0.0   \n",
       "1796     0.0000        0.0        0.0     0.1250  ...     0.5000        0.0   \n",
       "\n",
       "      pixel_7_0  pixel_7_1  pixel_7_2  pixel_7_3  pixel_7_4  pixel_7_5  \\\n",
       "0           0.0   0.000000     0.3750     0.8125     0.6250     0.0000   \n",
       "1           0.0   0.000000     0.0000     0.6875     1.0000     0.6250   \n",
       "2           0.0   0.000000     0.0000     0.1875     0.6875     1.0000   \n",
       "3           0.0   0.000000     0.4375     0.8125     0.8125     0.5625   \n",
       "4           0.0   0.000000     0.0000     0.1250     1.0000     0.2500   \n",
       "...         ...        ...        ...        ...        ...        ...   \n",
       "1792        0.0   0.000000     0.1250     0.8750     0.9375     0.5625   \n",
       "1793        0.0   0.000000     0.3750     1.0000     0.8750     0.3750   \n",
       "1794        0.0   0.000000     0.1250     0.5625     0.8125     0.3750   \n",
       "1795        0.0   0.000000     0.3125     0.7500     1.0000     0.7500   \n",
       "1796        0.0   0.111111     0.5000     0.7500     0.8750     0.7500   \n",
       "\n",
       "      pixel_7_6  pixel_7_7  \n",
       "0        0.0000        0.0  \n",
       "1        0.0000        0.0  \n",
       "2        0.5625        0.0  \n",
       "3        0.0000        0.0  \n",
       "4        0.0000        0.0  \n",
       "...         ...        ...  \n",
       "1792     0.0000        0.0  \n",
       "1793     0.0000        0.0  \n",
       "1794     0.0000        0.0  \n",
       "1795     0.0000        0.0  \n",
       "1796     0.0625        0.0  \n",
       "\n",
       "[1797 rows x 64 columns]"
      ],
      "text/html": "<div>\n<style scoped>\n    .dataframe tbody tr th:only-of-type {\n        vertical-align: middle;\n    }\n\n    .dataframe tbody tr th {\n        vertical-align: top;\n    }\n\n    .dataframe thead th {\n        text-align: right;\n    }\n</style>\n<table border=\"1\" class=\"dataframe\">\n  <thead>\n    <tr style=\"text-align: right;\">\n      <th></th>\n      <th>pixel_0_0</th>\n      <th>pixel_0_1</th>\n      <th>pixel_0_2</th>\n      <th>pixel_0_3</th>\n      <th>pixel_0_4</th>\n      <th>pixel_0_5</th>\n      <th>pixel_0_6</th>\n      <th>pixel_0_7</th>\n      <th>pixel_1_0</th>\n      <th>pixel_1_1</th>\n      <th>...</th>\n      <th>pixel_6_6</th>\n      <th>pixel_6_7</th>\n      <th>pixel_7_0</th>\n      <th>pixel_7_1</th>\n      <th>pixel_7_2</th>\n      <th>pixel_7_3</th>\n      <th>pixel_7_4</th>\n      <th>pixel_7_5</th>\n      <th>pixel_7_6</th>\n      <th>pixel_7_7</th>\n    </tr>\n  </thead>\n  <tbody>\n    <tr>\n      <th>0</th>\n      <td>0.0</td>\n      <td>0.0</td>\n      <td>0.3125</td>\n      <td>0.8125</td>\n      <td>0.5625</td>\n      <td>0.0625</td>\n      <td>0.0000</td>\n      <td>0.0</td>\n      <td>0.0</td>\n      <td>0.0000</td>\n      <td>...</td>\n      <td>0.0000</td>\n      <td>0.0</td>\n      <td>0.0</td>\n      <td>0.000000</td>\n      <td>0.3750</td>\n      <td>0.8125</td>\n      <td>0.6250</td>\n      <td>0.0000</td>\n      <td>0.0000</td>\n      <td>0.0</td>\n    </tr>\n    <tr>\n      <th>1</th>\n      <td>0.0</td>\n      <td>0.0</td>\n      <td>0.0000</td>\n      <td>0.7500</td>\n      <td>0.8125</td>\n      <td>0.3125</td>\n      <td>0.0000</td>\n      <td>0.0</td>\n      <td>0.0</td>\n      <td>0.0000</td>\n      <td>...</td>\n      <td>0.0000</td>\n      <td>0.0</td>\n      <td>0.0</td>\n      <td>0.000000</td>\n      <td>0.0000</td>\n      <td>0.6875</td>\n      <td>1.0000</td>\n      <td>0.6250</td>\n      <td>0.0000</td>\n      <td>0.0</td>\n    </tr>\n    <tr>\n      <th>2</th>\n      <td>0.0</td>\n      <td>0.0</td>\n      <td>0.0000</td>\n      <td>0.2500</td>\n      <td>0.9375</td>\n      <td>0.7500</td>\n      <td>0.0000</td>\n      <td>0.0</td>\n      <td>0.0</td>\n      <td>0.0000</td>\n      <td>...</td>\n      <td>0.3125</td>\n      <td>0.0</td>\n      <td>0.0</td>\n      <td>0.000000</td>\n      <td>0.0000</td>\n      <td>0.1875</td>\n      <td>0.6875</td>\n      <td>1.0000</td>\n      <td>0.5625</td>\n      <td>0.0</td>\n    </tr>\n    <tr>\n      <th>3</th>\n      <td>0.0</td>\n      <td>0.0</td>\n      <td>0.4375</td>\n      <td>0.9375</td>\n      <td>0.8125</td>\n      <td>0.0625</td>\n      <td>0.0000</td>\n      <td>0.0</td>\n      <td>0.0</td>\n      <td>0.5000</td>\n      <td>...</td>\n      <td>0.5625</td>\n      <td>0.0</td>\n      <td>0.0</td>\n      <td>0.000000</td>\n      <td>0.4375</td>\n      <td>0.8125</td>\n      <td>0.8125</td>\n      <td>0.5625</td>\n      <td>0.0000</td>\n      <td>0.0</td>\n    </tr>\n    <tr>\n      <th>4</th>\n      <td>0.0</td>\n      <td>0.0</td>\n      <td>0.0000</td>\n      <td>0.0625</td>\n      <td>0.6875</td>\n      <td>0.0000</td>\n      <td>0.0000</td>\n      <td>0.0</td>\n      <td>0.0</td>\n      <td>0.0000</td>\n      <td>...</td>\n      <td>0.0000</td>\n      <td>0.0</td>\n      <td>0.0</td>\n      <td>0.000000</td>\n      <td>0.0000</td>\n      <td>0.1250</td>\n      <td>1.0000</td>\n      <td>0.2500</td>\n      <td>0.0000</td>\n      <td>0.0</td>\n    </tr>\n    <tr>\n      <th>...</th>\n      <td>...</td>\n      <td>...</td>\n      <td>...</td>\n      <td>...</td>\n      <td>...</td>\n      <td>...</td>\n      <td>...</td>\n      <td>...</td>\n      <td>...</td>\n      <td>...</td>\n      <td>...</td>\n      <td>...</td>\n      <td>...</td>\n      <td>...</td>\n      <td>...</td>\n      <td>...</td>\n      <td>...</td>\n      <td>...</td>\n      <td>...</td>\n      <td>...</td>\n      <td>...</td>\n    </tr>\n    <tr>\n      <th>1792</th>\n      <td>0.0</td>\n      <td>0.0</td>\n      <td>0.2500</td>\n      <td>0.6250</td>\n      <td>0.8125</td>\n      <td>0.3750</td>\n      <td>0.0000</td>\n      <td>0.0</td>\n      <td>0.0</td>\n      <td>0.0625</td>\n      <td>...</td>\n      <td>0.2500</td>\n      <td>0.0</td>\n      <td>0.0</td>\n      <td>0.000000</td>\n      <td>0.1250</td>\n      <td>0.8750</td>\n      <td>0.9375</td>\n      <td>0.5625</td>\n      <td>0.0000</td>\n      <td>0.0</td>\n    </tr>\n    <tr>\n      <th>1793</th>\n      <td>0.0</td>\n      <td>0.0</td>\n      <td>0.3750</td>\n      <td>1.0000</td>\n      <td>0.8125</td>\n      <td>0.6875</td>\n      <td>0.0625</td>\n      <td>0.0</td>\n      <td>0.0</td>\n      <td>0.0000</td>\n      <td>...</td>\n      <td>0.0625</td>\n      <td>0.0</td>\n      <td>0.0</td>\n      <td>0.000000</td>\n      <td>0.3750</td>\n      <td>1.0000</td>\n      <td>0.8750</td>\n      <td>0.3750</td>\n      <td>0.0000</td>\n      <td>0.0</td>\n    </tr>\n    <tr>\n      <th>1794</th>\n      <td>0.0</td>\n      <td>0.0</td>\n      <td>0.0625</td>\n      <td>0.6875</td>\n      <td>0.9375</td>\n      <td>0.0625</td>\n      <td>0.0000</td>\n      <td>0.0</td>\n      <td>0.0</td>\n      <td>0.0000</td>\n      <td>...</td>\n      <td>0.0000</td>\n      <td>0.0</td>\n      <td>0.0</td>\n      <td>0.000000</td>\n      <td>0.1250</td>\n      <td>0.5625</td>\n      <td>0.8125</td>\n      <td>0.3750</td>\n      <td>0.0000</td>\n      <td>0.0</td>\n    </tr>\n    <tr>\n      <th>1795</th>\n      <td>0.0</td>\n      <td>0.0</td>\n      <td>0.1250</td>\n      <td>0.6250</td>\n      <td>0.4375</td>\n      <td>0.0000</td>\n      <td>0.0000</td>\n      <td>0.0</td>\n      <td>0.0</td>\n      <td>0.0000</td>\n      <td>...</td>\n      <td>0.1250</td>\n      <td>0.0</td>\n      <td>0.0</td>\n      <td>0.000000</td>\n      <td>0.3125</td>\n      <td>0.7500</td>\n      <td>1.0000</td>\n      <td>0.7500</td>\n      <td>0.0000</td>\n      <td>0.0</td>\n    </tr>\n    <tr>\n      <th>1796</th>\n      <td>0.0</td>\n      <td>0.0</td>\n      <td>0.6250</td>\n      <td>0.8750</td>\n      <td>0.5000</td>\n      <td>0.0625</td>\n      <td>0.0000</td>\n      <td>0.0</td>\n      <td>0.0</td>\n      <td>0.1250</td>\n      <td>...</td>\n      <td>0.5000</td>\n      <td>0.0</td>\n      <td>0.0</td>\n      <td>0.111111</td>\n      <td>0.5000</td>\n      <td>0.7500</td>\n      <td>0.8750</td>\n      <td>0.7500</td>\n      <td>0.0625</td>\n      <td>0.0</td>\n    </tr>\n  </tbody>\n</table>\n<p>1797 rows × 64 columns</p>\n</div>"
     },
     "metadata": {},
     "execution_count": 17
    }
   ],
   "source": [
    "from sklearn.preprocessing import MinMaxScaler\n",
    "\n",
    "digits_mms = MinMaxScaler().fit_transform(digits.data)\n",
    "pd.DataFrame(digits_mms, columns = digits.feature_names)"
   ]
  },
  {
   "cell_type": "code",
   "execution_count": 18,
   "metadata": {},
   "outputs": [
    {
     "output_type": "execute_result",
     "data": {
      "text/plain": [
       "0.8777777777777778"
      ]
     },
     "metadata": {},
     "execution_count": 18
    }
   ],
   "source": [
    "X_train, X_test, y_train, y_test = train_test_split(\n",
    "    digits_mms, digits.target, stratify = digits.target, test_size = 0.2, random_state = 2021\n",
    ")\n",
    "\n",
    "dtc = DecisionTreeClassifier(random_state=2021)\n",
    "dtc.fit(X_train, y_train)\n",
    "pred = dtc.predict(X_test)\n",
    "accuracy_score(y_test, pred)"
   ]
  },
  {
   "source": [
    "- Ensemble"
   ],
   "cell_type": "markdown",
   "metadata": {}
  },
  {
   "cell_type": "code",
   "execution_count": 21,
   "metadata": {},
   "outputs": [],
   "source": [
    "from sklearn.linear_model import LogisticRegression\n",
    "from sklearn.svm import SVC\n",
    "from sklearn.neighbors import KNeighborsClassifier\n",
    "\n",
    "lr = LogisticRegression()\n",
    "svc = SVC()\n",
    "knn = KNeighborsClassifier()"
   ]
  },
  {
   "cell_type": "code",
   "execution_count": 22,
   "metadata": {},
   "outputs": [
    {
     "output_type": "execute_result",
     "data": {
      "text/plain": [
       "0.9861111111111112"
      ]
     },
     "metadata": {},
     "execution_count": 22
    }
   ],
   "source": [
    "from sklearn.ensemble import VotingClassifier\n",
    "\n",
    "vo_clf = VotingClassifier(\n",
    "    estimators = [('LR', lr), ('SVC', svc), ('KNN', knn)],\n",
    "    voting = 'hard'\n",
    ")\n",
    "\n",
    "vo_clf.fit(X_train, y_train)\n",
    "pred = vo_clf.predict(X_test)\n",
    "accuracy_score(y_test, pred)"
   ]
  },
  {
   "cell_type": "code",
   "execution_count": 23,
   "metadata": {},
   "outputs": [
    {
     "output_type": "stream",
     "name": "stdout",
     "text": [
      "LogisticRegression accuracy : 0.9611\nSVC accuracy : 0.9861\nKNeighborsClassifier accuracy : 0.9833\n"
     ]
    }
   ],
   "source": [
    "for classifier in [lr, svc, knn] :\n",
    "    classifier.fit(X_train, y_train)\n",
    "    pred = classifier.predict(X_test)\n",
    "    acc = accuracy_score(y_test, pred)\n",
    "    classifier_name = classifier.__class__.__name__\n",
    "    print(f'{classifier_name} accuracy : {acc:.4f}')"
   ]
  },
  {
   "source": [
    "- new function"
   ],
   "cell_type": "markdown",
   "metadata": {}
  },
  {
   "cell_type": "code",
   "execution_count": 95,
   "metadata": {},
   "outputs": [],
   "source": [
    "import math\n",
    "def roundup(x):\n",
    "    for i in range(1797) :\n",
    "        for j in range(64) :\n",
    "            if x[i][j] >= 0.7 :\n",
    "                x[i][j] = 1\n",
    "            if x[i][j] >= 0.65 :\n",
    "                x[i][j] = 0.7\n",
    "            if x[i][j] < 0.25 :\n",
    "                x[i][j] = 0\n",
    "    return x"
   ]
  },
  {
   "cell_type": "code",
   "execution_count": 96,
   "metadata": {},
   "outputs": [
    {
     "output_type": "execute_result",
     "data": {
      "text/plain": [
       "      pixel_0_0  pixel_0_1  pixel_0_2  pixel_0_3  pixel_0_4  pixel_0_5  \\\n",
       "0           0.0        0.0     0.3125      0.700     0.5625     0.0000   \n",
       "1           0.0        0.0     0.0000      0.700     0.7000     0.3125   \n",
       "2           0.0        0.0     0.0000      0.250     0.7000     0.7000   \n",
       "3           0.0        0.0     0.4375      0.700     0.7000     0.0000   \n",
       "4           0.0        0.0     0.0000      0.000     0.7000     0.0000   \n",
       "...         ...        ...        ...        ...        ...        ...   \n",
       "1792        0.0        0.0     0.2500      0.625     0.7000     0.3750   \n",
       "1793        0.0        0.0     0.3750      0.700     0.7000     0.7000   \n",
       "1794        0.0        0.0     0.0000      0.700     0.7000     0.0000   \n",
       "1795        0.0        0.0     0.0000      0.625     0.4375     0.0000   \n",
       "1796        0.0        0.0     0.6250      0.700     0.5000     0.0000   \n",
       "\n",
       "      pixel_0_6  pixel_0_7  pixel_1_0  pixel_1_1  ...  pixel_6_6  pixel_6_7  \\\n",
       "0           0.0        0.0        0.0        0.0  ...     0.0000        0.0   \n",
       "1           0.0        0.0        0.0        0.0  ...     0.0000        0.0   \n",
       "2           0.0        0.0        0.0        0.0  ...     0.3125        0.0   \n",
       "3           0.0        0.0        0.0        0.5  ...     0.5625        0.0   \n",
       "4           0.0        0.0        0.0        0.0  ...     0.0000        0.0   \n",
       "...         ...        ...        ...        ...  ...        ...        ...   \n",
       "1792        0.0        0.0        0.0        0.0  ...     0.2500        0.0   \n",
       "1793        0.0        0.0        0.0        0.0  ...     0.0000        0.0   \n",
       "1794        0.0        0.0        0.0        0.0  ...     0.0000        0.0   \n",
       "1795        0.0        0.0        0.0        0.0  ...     0.0000        0.0   \n",
       "1796        0.0        0.0        0.0        0.0  ...     0.5000        0.0   \n",
       "\n",
       "      pixel_7_0  pixel_7_1  pixel_7_2  pixel_7_3  pixel_7_4  pixel_7_5  \\\n",
       "0           0.0        0.0     0.3750     0.7000      0.625     0.0000   \n",
       "1           0.0        0.0     0.0000     0.7000      0.700     0.6250   \n",
       "2           0.0        0.0     0.0000     0.0000      0.700     0.7000   \n",
       "3           0.0        0.0     0.4375     0.7000      0.700     0.5625   \n",
       "4           0.0        0.0     0.0000     0.0000      0.700     0.2500   \n",
       "...         ...        ...        ...        ...        ...        ...   \n",
       "1792        0.0        0.0     0.0000     0.7000      0.700     0.5625   \n",
       "1793        0.0        0.0     0.3750     0.7000      0.700     0.3750   \n",
       "1794        0.0        0.0     0.0000     0.5625      0.700     0.3750   \n",
       "1795        0.0        0.0     0.3125     0.7000      0.700     0.7000   \n",
       "1796        0.0        0.0     0.5000     0.7000      0.700     0.7000   \n",
       "\n",
       "      pixel_7_6  pixel_7_7  \n",
       "0        0.0000        0.0  \n",
       "1        0.0000        0.0  \n",
       "2        0.5625        0.0  \n",
       "3        0.0000        0.0  \n",
       "4        0.0000        0.0  \n",
       "...         ...        ...  \n",
       "1792     0.0000        0.0  \n",
       "1793     0.0000        0.0  \n",
       "1794     0.0000        0.0  \n",
       "1795     0.0000        0.0  \n",
       "1796     0.0000        0.0  \n",
       "\n",
       "[1797 rows x 64 columns]"
      ],
      "text/html": "<div>\n<style scoped>\n    .dataframe tbody tr th:only-of-type {\n        vertical-align: middle;\n    }\n\n    .dataframe tbody tr th {\n        vertical-align: top;\n    }\n\n    .dataframe thead th {\n        text-align: right;\n    }\n</style>\n<table border=\"1\" class=\"dataframe\">\n  <thead>\n    <tr style=\"text-align: right;\">\n      <th></th>\n      <th>pixel_0_0</th>\n      <th>pixel_0_1</th>\n      <th>pixel_0_2</th>\n      <th>pixel_0_3</th>\n      <th>pixel_0_4</th>\n      <th>pixel_0_5</th>\n      <th>pixel_0_6</th>\n      <th>pixel_0_7</th>\n      <th>pixel_1_0</th>\n      <th>pixel_1_1</th>\n      <th>...</th>\n      <th>pixel_6_6</th>\n      <th>pixel_6_7</th>\n      <th>pixel_7_0</th>\n      <th>pixel_7_1</th>\n      <th>pixel_7_2</th>\n      <th>pixel_7_3</th>\n      <th>pixel_7_4</th>\n      <th>pixel_7_5</th>\n      <th>pixel_7_6</th>\n      <th>pixel_7_7</th>\n    </tr>\n  </thead>\n  <tbody>\n    <tr>\n      <th>0</th>\n      <td>0.0</td>\n      <td>0.0</td>\n      <td>0.3125</td>\n      <td>0.700</td>\n      <td>0.5625</td>\n      <td>0.0000</td>\n      <td>0.0</td>\n      <td>0.0</td>\n      <td>0.0</td>\n      <td>0.0</td>\n      <td>...</td>\n      <td>0.0000</td>\n      <td>0.0</td>\n      <td>0.0</td>\n      <td>0.0</td>\n      <td>0.3750</td>\n      <td>0.7000</td>\n      <td>0.625</td>\n      <td>0.0000</td>\n      <td>0.0000</td>\n      <td>0.0</td>\n    </tr>\n    <tr>\n      <th>1</th>\n      <td>0.0</td>\n      <td>0.0</td>\n      <td>0.0000</td>\n      <td>0.700</td>\n      <td>0.7000</td>\n      <td>0.3125</td>\n      <td>0.0</td>\n      <td>0.0</td>\n      <td>0.0</td>\n      <td>0.0</td>\n      <td>...</td>\n      <td>0.0000</td>\n      <td>0.0</td>\n      <td>0.0</td>\n      <td>0.0</td>\n      <td>0.0000</td>\n      <td>0.7000</td>\n      <td>0.700</td>\n      <td>0.6250</td>\n      <td>0.0000</td>\n      <td>0.0</td>\n    </tr>\n    <tr>\n      <th>2</th>\n      <td>0.0</td>\n      <td>0.0</td>\n      <td>0.0000</td>\n      <td>0.250</td>\n      <td>0.7000</td>\n      <td>0.7000</td>\n      <td>0.0</td>\n      <td>0.0</td>\n      <td>0.0</td>\n      <td>0.0</td>\n      <td>...</td>\n      <td>0.3125</td>\n      <td>0.0</td>\n      <td>0.0</td>\n      <td>0.0</td>\n      <td>0.0000</td>\n      <td>0.0000</td>\n      <td>0.700</td>\n      <td>0.7000</td>\n      <td>0.5625</td>\n      <td>0.0</td>\n    </tr>\n    <tr>\n      <th>3</th>\n      <td>0.0</td>\n      <td>0.0</td>\n      <td>0.4375</td>\n      <td>0.700</td>\n      <td>0.7000</td>\n      <td>0.0000</td>\n      <td>0.0</td>\n      <td>0.0</td>\n      <td>0.0</td>\n      <td>0.5</td>\n      <td>...</td>\n      <td>0.5625</td>\n      <td>0.0</td>\n      <td>0.0</td>\n      <td>0.0</td>\n      <td>0.4375</td>\n      <td>0.7000</td>\n      <td>0.700</td>\n      <td>0.5625</td>\n      <td>0.0000</td>\n      <td>0.0</td>\n    </tr>\n    <tr>\n      <th>4</th>\n      <td>0.0</td>\n      <td>0.0</td>\n      <td>0.0000</td>\n      <td>0.000</td>\n      <td>0.7000</td>\n      <td>0.0000</td>\n      <td>0.0</td>\n      <td>0.0</td>\n      <td>0.0</td>\n      <td>0.0</td>\n      <td>...</td>\n      <td>0.0000</td>\n      <td>0.0</td>\n      <td>0.0</td>\n      <td>0.0</td>\n      <td>0.0000</td>\n      <td>0.0000</td>\n      <td>0.700</td>\n      <td>0.2500</td>\n      <td>0.0000</td>\n      <td>0.0</td>\n    </tr>\n    <tr>\n      <th>...</th>\n      <td>...</td>\n      <td>...</td>\n      <td>...</td>\n      <td>...</td>\n      <td>...</td>\n      <td>...</td>\n      <td>...</td>\n      <td>...</td>\n      <td>...</td>\n      <td>...</td>\n      <td>...</td>\n      <td>...</td>\n      <td>...</td>\n      <td>...</td>\n      <td>...</td>\n      <td>...</td>\n      <td>...</td>\n      <td>...</td>\n      <td>...</td>\n      <td>...</td>\n      <td>...</td>\n    </tr>\n    <tr>\n      <th>1792</th>\n      <td>0.0</td>\n      <td>0.0</td>\n      <td>0.2500</td>\n      <td>0.625</td>\n      <td>0.7000</td>\n      <td>0.3750</td>\n      <td>0.0</td>\n      <td>0.0</td>\n      <td>0.0</td>\n      <td>0.0</td>\n      <td>...</td>\n      <td>0.2500</td>\n      <td>0.0</td>\n      <td>0.0</td>\n      <td>0.0</td>\n      <td>0.0000</td>\n      <td>0.7000</td>\n      <td>0.700</td>\n      <td>0.5625</td>\n      <td>0.0000</td>\n      <td>0.0</td>\n    </tr>\n    <tr>\n      <th>1793</th>\n      <td>0.0</td>\n      <td>0.0</td>\n      <td>0.3750</td>\n      <td>0.700</td>\n      <td>0.7000</td>\n      <td>0.7000</td>\n      <td>0.0</td>\n      <td>0.0</td>\n      <td>0.0</td>\n      <td>0.0</td>\n      <td>...</td>\n      <td>0.0000</td>\n      <td>0.0</td>\n      <td>0.0</td>\n      <td>0.0</td>\n      <td>0.3750</td>\n      <td>0.7000</td>\n      <td>0.700</td>\n      <td>0.3750</td>\n      <td>0.0000</td>\n      <td>0.0</td>\n    </tr>\n    <tr>\n      <th>1794</th>\n      <td>0.0</td>\n      <td>0.0</td>\n      <td>0.0000</td>\n      <td>0.700</td>\n      <td>0.7000</td>\n      <td>0.0000</td>\n      <td>0.0</td>\n      <td>0.0</td>\n      <td>0.0</td>\n      <td>0.0</td>\n      <td>...</td>\n      <td>0.0000</td>\n      <td>0.0</td>\n      <td>0.0</td>\n      <td>0.0</td>\n      <td>0.0000</td>\n      <td>0.5625</td>\n      <td>0.700</td>\n      <td>0.3750</td>\n      <td>0.0000</td>\n      <td>0.0</td>\n    </tr>\n    <tr>\n      <th>1795</th>\n      <td>0.0</td>\n      <td>0.0</td>\n      <td>0.0000</td>\n      <td>0.625</td>\n      <td>0.4375</td>\n      <td>0.0000</td>\n      <td>0.0</td>\n      <td>0.0</td>\n      <td>0.0</td>\n      <td>0.0</td>\n      <td>...</td>\n      <td>0.0000</td>\n      <td>0.0</td>\n      <td>0.0</td>\n      <td>0.0</td>\n      <td>0.3125</td>\n      <td>0.7000</td>\n      <td>0.700</td>\n      <td>0.7000</td>\n      <td>0.0000</td>\n      <td>0.0</td>\n    </tr>\n    <tr>\n      <th>1796</th>\n      <td>0.0</td>\n      <td>0.0</td>\n      <td>0.6250</td>\n      <td>0.700</td>\n      <td>0.5000</td>\n      <td>0.0000</td>\n      <td>0.0</td>\n      <td>0.0</td>\n      <td>0.0</td>\n      <td>0.0</td>\n      <td>...</td>\n      <td>0.5000</td>\n      <td>0.0</td>\n      <td>0.0</td>\n      <td>0.0</td>\n      <td>0.5000</td>\n      <td>0.7000</td>\n      <td>0.700</td>\n      <td>0.7000</td>\n      <td>0.0000</td>\n      <td>0.0</td>\n    </tr>\n  </tbody>\n</table>\n<p>1797 rows × 64 columns</p>\n</div>"
     },
     "metadata": {},
     "execution_count": 96
    }
   ],
   "source": [
    "digits_mms = MinMaxScaler().fit_transform(digits.data)\n",
    "a = roundup(digits_mms)\n",
    "pd.DataFrame(a, columns = digits.feature_names)"
   ]
  },
  {
   "cell_type": "code",
   "execution_count": 97,
   "metadata": {},
   "outputs": [
    {
     "output_type": "execute_result",
     "data": {
      "text/plain": [
       "0.85"
      ]
     },
     "metadata": {},
     "execution_count": 97
    }
   ],
   "source": [
    "X_train, X_test, y_train, y_test = train_test_split(\n",
    "    a, digits.target, stratify = digits.target, test_size = 0.2, random_state = 2021\n",
    ")\n",
    "\n",
    "dtc = DecisionTreeClassifier(random_state=2021)\n",
    "dtc.fit(X_train, y_train)\n",
    "pred = dtc.predict(X_test)\n",
    "accuracy_score(y_test, pred)"
   ]
  },
  {
   "cell_type": "code",
   "execution_count": 98,
   "metadata": {},
   "outputs": [
    {
     "output_type": "execute_result",
     "data": {
      "text/plain": [
       "0.9861111111111112"
      ]
     },
     "metadata": {},
     "execution_count": 98
    }
   ],
   "source": [
    "vo_clf = VotingClassifier(\n",
    "    estimators = [('LR', lr), ('SVC', svc), ('KNN', knn)],\n",
    "    voting = 'hard'\n",
    ")\n",
    "\n",
    "vo_clf.fit(X_train, y_train)\n",
    "pred = vo_clf.predict(X_test)\n",
    "accuracy_score(y_test, pred)"
   ]
  },
  {
   "cell_type": "code",
   "execution_count": 99,
   "metadata": {},
   "outputs": [
    {
     "output_type": "stream",
     "name": "stdout",
     "text": [
      "LogisticRegression accuracy : 0.9583\nSVC accuracy : 0.9889\nKNeighborsClassifier accuracy : 0.9639\n"
     ]
    }
   ],
   "source": [
    "for classifier in [lr, svc, knn] :\n",
    "    classifier.fit(X_train, y_train)\n",
    "    pred = classifier.predict(X_test)\n",
    "    acc = accuracy_score(y_test, pred)\n",
    "    classifier_name = classifier.__class__.__name__\n",
    "    print(f'{classifier_name} accuracy : {acc:.4f}')"
   ]
  }
 ]
}